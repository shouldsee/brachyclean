{
 "cells": [
  {
   "cell_type": "code",
   "execution_count": 6,
   "metadata": {},
   "outputs": [
    {
     "name": "stdout",
     "output_type": "stream",
     "text": [
      "env: BASE=/home/feng/work\n",
      "env: HOST=http://172.26.114.34:81\n"
     ]
    }
   ],
   "source": [
    "# %%time\n",
    "%env BASE=/home/feng/work\n",
    "%env HOST=http://172.26.114.34:81\n",
    "        "
   ]
  },
  {
   "cell_type": "code",
   "execution_count": 197,
   "metadata": {},
   "outputs": [
    {
     "name": "stdout",
     "output_type": "stream",
     "text": [
      "env: BASE=/home/feng/work\n",
      "env: HOST=http://172.26.114.34:81\n",
      "[BASE]=/home/feng/work\n",
      "[BASE]=/home/feng/work\n",
      "\n",
      "mkdir -p /home/feng/work/results/0224__lineplot__western || exit 1\n",
      "time { \n",
      "    set -e;      \n",
      "    cp -f /home/feng/work/BrachyPhoto/0224__lineplot__western.py /home/feng/work/results/0224__lineplot__western/0224__lineplot__western.py; \n",
      "    cd /home/feng/work/results/0224__lineplot__western; \n",
      "    chmod +x 0224__lineplot__western.py ;\n",
      "    ./0224__lineplot__western.py ; \n",
      "    touch /home/feng/work/results/0224__lineplot__western/DONE; \n",
      "} 2>&1 | tee /home/feng/work/results/0224__lineplot__western/0224__lineplot__western.py.log | tee -a /home/feng/work/LOG;\n",
      "exit ${PIPESTATUS[0]}; \n",
      "\n"
     ]
    }
   ],
   "source": [
    "# %%time\n",
    "%env BASE=/home/feng/work\n",
    "%env HOST=http://172.26.114.34:81\n",
    "        \n",
    "import pymisca.ext as pyext\n",
    "pyext.base__check()\n",
    "suc,res = pyext.job__script(\n",
    "    pyext.base__file('/home/feng/work/BrachyPhoto/0224__lineplot__western.py'))\n",
    "assert suc,res"
   ]
  },
  {
   "cell_type": "code",
   "execution_count": 196,
   "metadata": {},
   "outputs": [
    {
     "name": "stdout",
     "output_type": "stream",
     "text": [
      "Overwriting 0224__lineplot__western.py\n"
     ]
    }
   ],
   "source": [
    "%%writefile 0224__lineplot__western.py\n",
    "#!/usr/bin/env python\n",
    "# -*- coding: utf-8 -*-\n",
    "\n",
    "\n",
    "import pymisca.header as pyhead\n",
    "pyhead.execBaseFile('headers/header__import.py')\n",
    "figs = pyutil.collections.OrderedDict()\n",
    "\n",
    "figsize=[5.5, 4]\n",
    "# figsize = [5,3]\n",
    "buf ='''\n",
    "\tELF3 protein levels\t\t\trubisco\tELF3/rubisco\tELF3/rubisco\n",
    "WT\t144.506\t0.198\t1\t1748.669\t0.082637709023263\t0.082637709023263\n",
    "ZT12\t4801.095\t6.588\t2\t2091.012\t2.29606286334081\t2.29606286334081\n",
    "ZT16\t10202.359\t13.999\t3\t1879.82\t5.42730633784086\t5.42730633784086\n",
    "ZT20\t14909.38\t20.458\t4\t1909.477\t7.80809614360372\t7.80809614360372\n",
    "ZT0\t17212.966\t23.618\t5\t1939.719\t8.87394823683224\t8.87394823683224\n",
    "ZT0.5\t15226.865\t20.893\t6\t1844.012\t8.25746524426088\t8.25746524426088\n",
    "ZT1\t5540.267\t7.602\t7\t1934.426\t2.86403667030944\t2.86403667030944\n",
    "ZT4\t4841.853\t6.644\t8\t1699.79\t2.84850069714494\t2.84850069714494\n",
    "'''\n",
    "\n",
    "pyvis.mpl_header()\n",
    "\n",
    "dfc = pyutil.read__buffer(buf,ext='tsv')\n",
    "# dfc\n",
    "dfc = dfc.drop(index='WT')\n",
    "# dfc['ZTime'] = dfc.index\n",
    "dfc['ZTime_num'] = dfc.index.str.strip('ZT').astype(float)\n",
    "vals = dfc['ZTime_num'].values\n",
    "\n",
    "vals = dfc['ZTime_num'].values\n",
    "vals = (vals - vals[0]) % 24\n",
    "dfc['x'] = vals \n",
    "\n",
    "\n",
    "fig, ax = plt.subplots(1,1,figsize=figsize)\n",
    "\n",
    "xcol  ='x'\n",
    "xlab = ''\n",
    "ycol = 'ELF3/rubisco'\n",
    "ylab = ycol\n",
    "dfc.plot(x=xcol,\n",
    "         y=ycol,\n",
    "         rot='vertical',marker='o',\n",
    "         legend=False,\n",
    "         ax=ax\n",
    "        )\n",
    "\n",
    "ax =  plt.gca()\n",
    "\n",
    "tickDF = dfc.drop(index='ZT0.5')\n",
    "ax.set_xticks(tickDF[xcol])\n",
    "ax.set_xticklabels(tickDF.index)\n",
    "\n",
    "\n",
    "ax.set_ylim([0,None])\n",
    "# ax.set_xlim(-1,24)\n",
    "pyvis.abline(x0=12.0,color='black')\n",
    "ax.set_xlabel(xlab)\n",
    "# plt.\n",
    "ax.set_ylabel(ylab)\n",
    "ax.grid(1)\n",
    "\n",
    "figs['ELF3_WB'] = ax.figure\n",
    "\n",
    "\n",
    "buf = '''\n",
    "\tlight\tZTime\t\t\t\trubisco\tELF3/rubisco\n",
    "\tlabel\tZT16\t\t\t\t\t\n",
    "\tlabel\tZT20\t\t\t\t\t\n",
    "\tlabel\tZT0\t\t\t\t\t\n",
    "\tlabel\tZT4\t\t\t\t\t\n",
    "\tlabel\tZT8\t\t\t\t\t\n",
    "SD ZT20\tSD\tZT20\t1\t22429.56\t1\t16755.037\t1.33867564720985\n",
    "SD ZT0\tSD\tZT0\t2\t22107.43\t2\t15271.602\t1.44761695596834\n",
    "SD ZT4\tSD\tZT4\t3\t2216.163\t3\t17072.501\t0.129808924890384\n",
    "LD ZT20\tLD\tZT20\t4\t10005.388\t4\t21653.141\t0.462075594483036\n",
    "LD ZT0\tLD\tZT0\t5\t13618.782\t5\t24843.128\t0.54819111345399\n",
    "LD ZT4\tLD\tZT4\t6\t1203.305\t6\t21513.643\t0.05593218219713\n",
    "LL ZT20\tLL\tZT20\t7\t6360.246\t7\t13980.258\t0.454944822906702\n",
    "LL ZT0\tLL\tZT0\t8\t1228.82\t8\t15790.087\t0.07782224379131\n",
    "LL ZT4\tLL\tZT4\t9\t1207.305\t9\t12064.48\t0.100071034972083\n",
    "20h/12h ZT0\t20h/12h\tZT0\t10\t15180.539\t10\t15560.283\t0.975595302476182\n",
    "20h/12h ZT4\t20h/12h\tZT4\t11\t4013.104\t11\t17322.645\t0.231668085329925\n",
    "\n",
    "'''\n",
    "\n",
    "# figsize=[5.5, 4]\n",
    "\n",
    "dfc0 = dfc = pyutil.read__buffer(buf,ext='tsv')\n",
    "\n",
    "# dfc\n",
    "# dfc = dfc.drop(index='WT')\n",
    "# dfc['ZTime'] = dfc.index\n",
    "vals = dfc['ZTime_num'] = dfc.ZTime.str.strip('ZT').astype(float)\n",
    "offset = vals[0]\n",
    "xfunc= lambda x:(vals - offset) % 24\n",
    "vals = xfunc(vals)\n",
    "vals = (vals -vals[0])\n",
    "\n",
    "dfc['x'] = vals \n",
    "dfc.sort_values(['x'])\n",
    "dfc = dfc.pivot_table(index='x',columns='light',\n",
    "#                       sort=False,\n",
    "                      aggfunc=lambda x:x,\n",
    "#                       values=dfc.columns.tolist()\n",
    "                     )\n",
    "\n",
    "\n",
    "\n",
    "fig, ax = plt.subplots(1,1,figsize=figsize)\n",
    "\n",
    "xs = dfc.index\n",
    "pyvis.linePlot4DF(df=dfc[ylab].T,xs=xs,marker='o',ax=ax)\n",
    "ax = plt.gca()\n",
    "ax.legend(title='Photoperiod')\n",
    "\n",
    "ax.set_ylim([0,None])\n",
    "ax.set_xlim(0,16)\n",
    "\n",
    "\n",
    "tickSer = dfc['ZTime']['label']\n",
    "ax.set_xticks(tickSer.index)\n",
    "ax.set_xticklabels(tickSer.values)\n",
    "\n",
    "ax.set_xlabel(xlab)\n",
    "ax.set_ylabel(ylab)\n",
    "ax.grid(1)\n",
    "pyvis.abline(x0=dfc0.query('ZTime==\"ZT0\"').dropna().x[0],color='black')\n",
    "\n",
    "\n",
    "figs['WB_ELF3-photo'] = ax.figure\n",
    "\n",
    "pyutil.render__images(figs,exts=['png','svg'])"
   ]
  },
  {
   "cell_type": "code",
   "execution_count": 32,
   "metadata": {},
   "outputs": [
    {
     "name": "stdout",
     "output_type": "stream",
     "text": [
      "[  0.    4.    8.  -12.  -11.5 -11.   -8. ] [ 0.   4.   8.  12.  12.5 13.  16. ]\n"
     ]
    }
   ],
   "source": [
    "vals = dfc['ZTime_num'].values\n",
    "vals = (vals - vals[0])\n",
    "print vals,vals%24"
   ]
  },
  {
   "cell_type": "code",
   "execution_count": null,
   "metadata": {},
   "outputs": [],
   "source": [
    "dfc.head"
   ]
  },
  {
   "cell_type": "code",
   "execution_count": 26,
   "metadata": {},
   "outputs": [
    {
     "data": {
      "text/plain": [
       "Unnamed: 0\n",
       "ZT12     36.0\n",
       "ZT16     40.0\n",
       "ZT20     44.0\n",
       "ZT0      24.0\n",
       "ZT0.5    24.5\n",
       "ZT1      25.0\n",
       "ZT4      28.0\n",
       "Name: ZTime_num, dtype: float64"
      ]
     },
     "execution_count": 26,
     "metadata": {},
     "output_type": "execute_result"
    }
   ],
   "source": [
    "dfc.ZTime_num"
   ]
  }
 ],
 "metadata": {
  "kernelspec": {
   "display_name": "Python 2",
   "language": "python",
   "name": "python2"
  },
  "language_info": {
   "codemirror_mode": {
    "name": "ipython",
    "version": 2
   },
   "file_extension": ".py",
   "mimetype": "text/x-python",
   "name": "python",
   "nbconvert_exporter": "python",
   "pygments_lexer": "ipython2",
   "version": "2.7.12"
  }
 },
 "nbformat": 4,
 "nbformat_minor": 2
}
